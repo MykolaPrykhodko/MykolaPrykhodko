{
  "nbformat": 4,
  "nbformat_minor": 0,
  "metadata": {
    "colab": {
      "name": "mitoTest.ipynb",
      "provenance": [],
      "collapsed_sections": [],
      "authorship_tag": "ABX9TyO+AONy/5+PEkQPJxVQSXZa",
      "include_colab_link": true
    },
    "kernelspec": {
      "name": "python3",
      "display_name": "Python 3"
    },
    "language_info": {
      "name": "python"
    }
  },
  "cells": [
    {
      "cell_type": "markdown",
      "metadata": {
        "id": "view-in-github",
        "colab_type": "text"
      },
      "source": [
        "<a href=\"https://colab.research.google.com/github/MykolaPrykhodko/MykolaPrykhodko/blob/main/mitoTest.ipynb\" target=\"_parent\"><img src=\"https://colab.research.google.com/assets/colab-badge.svg\" alt=\"Open In Colab\"/></a>"
      ]
    },
    {
      "cell_type": "code",
      "source": [
        "import pandas as pd\n",
        "import numpy as np"
      ],
      "metadata": {
        "id": "8CrG2TAstDcO"
      },
      "execution_count": 50,
      "outputs": []
    },
    {
      "cell_type": "markdown",
      "source": [
        "## Підключення хмарного середовища зберігання довідників для розрахунку"
      ],
      "metadata": {
        "id": "7UPj6-VTy_Cj"
      }
    },
    {
      "cell_type": "code",
      "source": [
        "from google.colab import drive\n",
        "drive.mount('/content/gdrive')"
      ],
      "metadata": {
        "id": "vy_DanL1AJ7I",
        "colab": {
          "base_uri": "https://localhost:8080/"
        },
        "outputId": "b3fd303b-f837-4024-d262-33a3e139ca77"
      },
      "execution_count": 51,
      "outputs": [
        {
          "output_type": "stream",
          "name": "stdout",
          "text": [
            "Drive already mounted at /content/gdrive; to attempt to forcibly remount, call drive.mount(\"/content/gdrive\", force_remount=True).\n"
          ]
        }
      ]
    },
    {
      "cell_type": "markdown",
      "source": [
        "## Для читання потрібна певна авторізація"
      ],
      "metadata": {
        "id": "7rjvrrk-0Xus"
      }
    },
    {
      "cell_type": "markdown",
      "source": [
        "###Імпортування бібліотек для аутентифікації та встановлення зв'язку із Таблицями."
      ],
      "metadata": {
        "id": "JdV6A20P1j7g"
      }
    },
    {
      "cell_type": "code",
      "source": [
        "from google.colab import auth\n",
        "auth.authenticate_user()\n",
        "\n",
        "import gspread\n",
        "from google.auth import default\n",
        "creds, _ = default()\n",
        "\n",
        "gc = gspread.authorize(creds)"
      ],
      "metadata": {
        "id": "505mgQ8Qym_n",
        "colab": {
          "base_uri": "https://localhost:8080/"
        },
        "outputId": "2682790c-a8e5-4cec-bb3d-6cd62f46f507"
      },
      "execution_count": 52,
      "outputs": [
        {
          "output_type": "stream",
          "name": "stderr",
          "text": [
            "WARNING:google.auth._default:No project ID could be determined. Consider running `gcloud config set project` or setting the GOOGLE_CLOUD_PROJECT environment variable\n"
          ]
        }
      ]
    },
    {
      "cell_type": "code",
      "source": [
        "path_in ='/content/gdrive/Shareddrives/Фінансовий департамент/Управління фінансового планування/Бюджет 2023/Budget FOP/Out/fop.xlsx'"
      ],
      "metadata": {
        "id": "bZuOYvXRur_P"
      },
      "execution_count": 53,
      "outputs": []
    },
    {
      "cell_type": "code",
      "source": [
        "sheet_df_dictonary = pd.read_excel(path_in, engine='openpyxl', sheet_name=['Sheet1'], skiprows=0)"
      ],
      "metadata": {
        "id": "_-Hcb-t2usB3"
      },
      "execution_count": 54,
      "outputs": []
    },
    {
      "cell_type": "code",
      "source": [
        "Sheet1 = sheet_df_dictonary['Sheet1'].drop(['Unnamed: 0'], axis=1)"
      ],
      "metadata": {
        "id": "z3FyPKTutkSu"
      },
      "execution_count": 55,
      "outputs": []
    },
    {
      "cell_type": "code",
      "source": [
        "print(Sheet1.columns)"
      ],
      "metadata": {
        "colab": {
          "base_uri": "https://localhost:8080/"
        },
        "id": "Pae4USD1LDVn",
        "outputId": "0435e76a-249f-44eb-9f13-02a9aacc46f7"
      },
      "execution_count": 56,
      "outputs": [
        {
          "output_type": "stream",
          "name": "stdout",
          "text": [
            "Index(['Таб №', 'Місяць бюджетного року', 'ПІБ', 'ЦФУ код', 'ЦФУ назва',\n",
            "       '5.4.1.1.0.', '5.4.1.1.8.', '5.4.1.1.1.', '5.4.1.1.2.', '5.4.1.1.3.3.',\n",
            "       '5.4.1.1.3.5.', '5.4.1.1.5.', '5.4.1.1.4.', '5.4.1.3.', '5.4.1.1.7.',\n",
            "       '5.4.1.2.1.', '5.4.1.5.8.'],\n",
            "      dtype='object')\n"
          ]
        }
      ]
    },
    {
      "cell_type": "code",
      "source": [
        "df_new = Sheet1[['Місяць бюджетного року', 'ЦФУ код', 'ЦФУ назва', '5.4.1.1.0.']].copy()"
      ],
      "metadata": {
        "id": "Ze_zLFCIM5mt"
      },
      "execution_count": 57,
      "outputs": []
    },
    {
      "cell_type": "markdown",
      "source": [
        "## Початковий масив"
      ],
      "metadata": {
        "id": "BRdL6vyeffzv"
      }
    },
    {
      "cell_type": "code",
      "source": [
        "df_tmp = df_new[df_new['Місяць бюджетного року'] == 'січень']\n",
        "result = df_tmp.groupby(['ЦФУ код', 'ЦФУ назва'])['5.4.1.1.0.'].aggregate('sum').to_frame().reset_index()"
      ],
      "metadata": {
        "id": "fbsSrxrbym7C"
      },
      "execution_count": 58,
      "outputs": []
    },
    {
      "cell_type": "code",
      "source": [
        "result.insert(0, 'Назва статті', 'основна заробітна плата (оклади) - бюджет')\n",
        "result.insert(0, 'Код статті', '5.4.1.1.0.')"
      ],
      "metadata": {
        "id": "eGb-kaMEGmVG"
      },
      "execution_count": 59,
      "outputs": []
    },
    {
      "cell_type": "code",
      "source": [
        "result_total = result.rename(columns = {'5.4.1.1.0.':'січень'})"
      ],
      "metadata": {
        "id": "zUxdHTRG3JwU"
      },
      "execution_count": 60,
      "outputs": []
    },
    {
      "cell_type": "code",
      "source": [
        "result_total.head()"
      ],
      "metadata": {
        "colab": {
          "base_uri": "https://localhost:8080/",
          "height": 206
        },
        "id": "jvnS4EnMfm_E",
        "outputId": "33e03247-e197-45b9-8a2b-11991f033cb0"
      },
      "execution_count": 61,
      "outputs": [
        {
          "output_type": "execute_result",
          "data": {
            "text/plain": [
              "   Код статті                               Назва статті     ЦФУ код  \\\n",
              "0  5.4.1.1.0.  основна заробітна плата (оклади) - бюджет      0.17..   \n",
              "1  5.4.1.1.0.  основна заробітна плата (оклади) - бюджет   0.23.1.1.   \n",
              "2  5.4.1.1.0.  основна заробітна плата (оклади) - бюджет       0.27.   \n",
              "3  5.4.1.1.0.  основна заробітна плата (оклади) - бюджет  1.05.11.2.   \n",
              "4  5.4.1.1.0.  основна заробітна плата (оклади) - бюджет    1.05.13.   \n",
              "\n",
              "                                           ЦФУ назва  січень  \n",
              "0  (до 01.01.2018) Управління депозитарної дiяльн...  114593  \n",
              "1                    Сектор розрахунків з персоналом   55057  \n",
              "2                                      Перший відділ   60752  \n",
              "3      Відділ аналізу кредитного ризику та звітності  132414  \n",
              "4      Управління оцінки та моніторингу забезпечення   62409  "
            ],
            "text/html": [
              "\n",
              "  <div id=\"df-29850d22-d13e-4f7e-83d6-e05398c434c6\">\n",
              "    <div class=\"colab-df-container\">\n",
              "      <div>\n",
              "<style scoped>\n",
              "    .dataframe tbody tr th:only-of-type {\n",
              "        vertical-align: middle;\n",
              "    }\n",
              "\n",
              "    .dataframe tbody tr th {\n",
              "        vertical-align: top;\n",
              "    }\n",
              "\n",
              "    .dataframe thead th {\n",
              "        text-align: right;\n",
              "    }\n",
              "</style>\n",
              "<table border=\"1\" class=\"dataframe\">\n",
              "  <thead>\n",
              "    <tr style=\"text-align: right;\">\n",
              "      <th></th>\n",
              "      <th>Код статті</th>\n",
              "      <th>Назва статті</th>\n",
              "      <th>ЦФУ код</th>\n",
              "      <th>ЦФУ назва</th>\n",
              "      <th>січень</th>\n",
              "    </tr>\n",
              "  </thead>\n",
              "  <tbody>\n",
              "    <tr>\n",
              "      <th>0</th>\n",
              "      <td>5.4.1.1.0.</td>\n",
              "      <td>основна заробітна плата (оклади) - бюджет</td>\n",
              "      <td>0.17..</td>\n",
              "      <td>(до 01.01.2018) Управління депозитарної дiяльн...</td>\n",
              "      <td>114593</td>\n",
              "    </tr>\n",
              "    <tr>\n",
              "      <th>1</th>\n",
              "      <td>5.4.1.1.0.</td>\n",
              "      <td>основна заробітна плата (оклади) - бюджет</td>\n",
              "      <td>0.23.1.1.</td>\n",
              "      <td>Сектор розрахунків з персоналом</td>\n",
              "      <td>55057</td>\n",
              "    </tr>\n",
              "    <tr>\n",
              "      <th>2</th>\n",
              "      <td>5.4.1.1.0.</td>\n",
              "      <td>основна заробітна плата (оклади) - бюджет</td>\n",
              "      <td>0.27.</td>\n",
              "      <td>Перший відділ</td>\n",
              "      <td>60752</td>\n",
              "    </tr>\n",
              "    <tr>\n",
              "      <th>3</th>\n",
              "      <td>5.4.1.1.0.</td>\n",
              "      <td>основна заробітна плата (оклади) - бюджет</td>\n",
              "      <td>1.05.11.2.</td>\n",
              "      <td>Відділ аналізу кредитного ризику та звітності</td>\n",
              "      <td>132414</td>\n",
              "    </tr>\n",
              "    <tr>\n",
              "      <th>4</th>\n",
              "      <td>5.4.1.1.0.</td>\n",
              "      <td>основна заробітна плата (оклади) - бюджет</td>\n",
              "      <td>1.05.13.</td>\n",
              "      <td>Управління оцінки та моніторингу забезпечення</td>\n",
              "      <td>62409</td>\n",
              "    </tr>\n",
              "  </tbody>\n",
              "</table>\n",
              "</div>\n",
              "      <button class=\"colab-df-convert\" onclick=\"convertToInteractive('df-29850d22-d13e-4f7e-83d6-e05398c434c6')\"\n",
              "              title=\"Convert this dataframe to an interactive table.\"\n",
              "              style=\"display:none;\">\n",
              "        \n",
              "  <svg xmlns=\"http://www.w3.org/2000/svg\" height=\"24px\"viewBox=\"0 0 24 24\"\n",
              "       width=\"24px\">\n",
              "    <path d=\"M0 0h24v24H0V0z\" fill=\"none\"/>\n",
              "    <path d=\"M18.56 5.44l.94 2.06.94-2.06 2.06-.94-2.06-.94-.94-2.06-.94 2.06-2.06.94zm-11 1L8.5 8.5l.94-2.06 2.06-.94-2.06-.94L8.5 2.5l-.94 2.06-2.06.94zm10 10l.94 2.06.94-2.06 2.06-.94-2.06-.94-.94-2.06-.94 2.06-2.06.94z\"/><path d=\"M17.41 7.96l-1.37-1.37c-.4-.4-.92-.59-1.43-.59-.52 0-1.04.2-1.43.59L10.3 9.45l-7.72 7.72c-.78.78-.78 2.05 0 2.83L4 21.41c.39.39.9.59 1.41.59.51 0 1.02-.2 1.41-.59l7.78-7.78 2.81-2.81c.8-.78.8-2.07 0-2.86zM5.41 20L4 18.59l7.72-7.72 1.47 1.35L5.41 20z\"/>\n",
              "  </svg>\n",
              "      </button>\n",
              "      \n",
              "  <style>\n",
              "    .colab-df-container {\n",
              "      display:flex;\n",
              "      flex-wrap:wrap;\n",
              "      gap: 12px;\n",
              "    }\n",
              "\n",
              "    .colab-df-convert {\n",
              "      background-color: #E8F0FE;\n",
              "      border: none;\n",
              "      border-radius: 50%;\n",
              "      cursor: pointer;\n",
              "      display: none;\n",
              "      fill: #1967D2;\n",
              "      height: 32px;\n",
              "      padding: 0 0 0 0;\n",
              "      width: 32px;\n",
              "    }\n",
              "\n",
              "    .colab-df-convert:hover {\n",
              "      background-color: #E2EBFA;\n",
              "      box-shadow: 0px 1px 2px rgba(60, 64, 67, 0.3), 0px 1px 3px 1px rgba(60, 64, 67, 0.15);\n",
              "      fill: #174EA6;\n",
              "    }\n",
              "\n",
              "    [theme=dark] .colab-df-convert {\n",
              "      background-color: #3B4455;\n",
              "      fill: #D2E3FC;\n",
              "    }\n",
              "\n",
              "    [theme=dark] .colab-df-convert:hover {\n",
              "      background-color: #434B5C;\n",
              "      box-shadow: 0px 1px 3px 1px rgba(0, 0, 0, 0.15);\n",
              "      filter: drop-shadow(0px 1px 2px rgba(0, 0, 0, 0.3));\n",
              "      fill: #FFFFFF;\n",
              "    }\n",
              "  </style>\n",
              "\n",
              "      <script>\n",
              "        const buttonEl =\n",
              "          document.querySelector('#df-29850d22-d13e-4f7e-83d6-e05398c434c6 button.colab-df-convert');\n",
              "        buttonEl.style.display =\n",
              "          google.colab.kernel.accessAllowed ? 'block' : 'none';\n",
              "\n",
              "        async function convertToInteractive(key) {\n",
              "          const element = document.querySelector('#df-29850d22-d13e-4f7e-83d6-e05398c434c6');\n",
              "          const dataTable =\n",
              "            await google.colab.kernel.invokeFunction('convertToInteractive',\n",
              "                                                     [key], {});\n",
              "          if (!dataTable) return;\n",
              "\n",
              "          const docLinkHtml = 'Like what you see? Visit the ' +\n",
              "            '<a target=\"_blank\" href=https://colab.research.google.com/notebooks/data_table.ipynb>data table notebook</a>'\n",
              "            + ' to learn more about interactive tables.';\n",
              "          element.innerHTML = '';\n",
              "          dataTable['output_type'] = 'display_data';\n",
              "          await google.colab.output.renderOutput(dataTable, element);\n",
              "          const docLink = document.createElement('div');\n",
              "          docLink.innerHTML = docLinkHtml;\n",
              "          element.appendChild(docLink);\n",
              "        }\n",
              "      </script>\n",
              "    </div>\n",
              "  </div>\n",
              "  "
            ]
          },
          "metadata": {},
          "execution_count": 61
        }
      ]
    },
    {
      "cell_type": "code",
      "source": [
        "months = ['лютий', 'березень', 'квітень', 'травень', 'червень', 'липень', 'серпень', 'вересень', 'жовтень', 'листопад', 'грудень']"
      ],
      "metadata": {
        "id": "MR5hO7PbbvwT"
      },
      "execution_count": 62,
      "outputs": []
    },
    {
      "cell_type": "code",
      "source": [
        "for i in months:\n",
        "  df_new_tmp = df_new[df_new['Місяць бюджетного року'] == i]\n",
        "  result = df_new_tmp.groupby(['ЦФУ код', 'ЦФУ назва'])['5.4.1.1.0.'].aggregate('sum').to_frame().reset_index()\n",
        "  result.insert(0, 'Назва статті', 'основна заробітна плата (оклади) - бюджет')\n",
        "  result.insert(0, 'Код статті', '5.4.1.1.0.')\n",
        "  # result_total = result.rename(columns = {'5.4.1.1.0.': i})\n",
        "  df_tmp = result.rename(columns = {'5.4.1.1.0.': i})\n",
        "  result_total = pd.merge(result_total, df_tmp)"
      ],
      "metadata": {
        "id": "1K1kXzZ4bz3E"
      },
      "execution_count": 63,
      "outputs": []
    },
    {
      "cell_type": "code",
      "source": [
        "result_total.head()"
      ],
      "metadata": {
        "colab": {
          "base_uri": "https://localhost:8080/",
          "height": 354
        },
        "id": "LA2qk-bUdHAz",
        "outputId": "69b8e52d-7e49-434c-dedd-da9a864ac085"
      },
      "execution_count": 64,
      "outputs": [
        {
          "output_type": "execute_result",
          "data": {
            "text/plain": [
              "   Код статті                               Назва статті     ЦФУ код  \\\n",
              "0  5.4.1.1.0.  основна заробітна плата (оклади) - бюджет      0.17..   \n",
              "1  5.4.1.1.0.  основна заробітна плата (оклади) - бюджет   0.23.1.1.   \n",
              "2  5.4.1.1.0.  основна заробітна плата (оклади) - бюджет       0.27.   \n",
              "3  5.4.1.1.0.  основна заробітна плата (оклади) - бюджет  1.05.11.2.   \n",
              "4  5.4.1.1.0.  основна заробітна плата (оклади) - бюджет    1.05.13.   \n",
              "\n",
              "                                           ЦФУ назва  січень   лютий  \\\n",
              "0  (до 01.01.2018) Управління депозитарної дiяльн...  114593  114593   \n",
              "1                    Сектор розрахунків з персоналом   55057   55057   \n",
              "2                                      Перший відділ   60752   60752   \n",
              "3      Відділ аналізу кредитного ризику та звітності  132414  132414   \n",
              "4      Управління оцінки та моніторингу забезпечення   62409   62409   \n",
              "\n",
              "   березень  квітень  травень  червень  липень  серпень  вересень  жовтень  \\\n",
              "0    114593   114593   114593   114593  114593   114593    114593   114593   \n",
              "1     55057    55057    55057    55057   55057    55057     55057    55057   \n",
              "2     60752    60752    60752    60752   60752    60752     60752    60752   \n",
              "3    132414   132414   132414   132414  132414   132414    132414   132414   \n",
              "4     62409    62409    62409   133691  133691   133691    133691   133691   \n",
              "\n",
              "   листопад  грудень  \n",
              "0    114593   114593  \n",
              "1     55057    55057  \n",
              "2     60752    60752  \n",
              "3    132414   132414  \n",
              "4    133691   133691  "
            ],
            "text/html": [
              "\n",
              "  <div id=\"df-9a9587f3-48a0-4f5d-b60c-b59d32d68875\">\n",
              "    <div class=\"colab-df-container\">\n",
              "      <div>\n",
              "<style scoped>\n",
              "    .dataframe tbody tr th:only-of-type {\n",
              "        vertical-align: middle;\n",
              "    }\n",
              "\n",
              "    .dataframe tbody tr th {\n",
              "        vertical-align: top;\n",
              "    }\n",
              "\n",
              "    .dataframe thead th {\n",
              "        text-align: right;\n",
              "    }\n",
              "</style>\n",
              "<table border=\"1\" class=\"dataframe\">\n",
              "  <thead>\n",
              "    <tr style=\"text-align: right;\">\n",
              "      <th></th>\n",
              "      <th>Код статті</th>\n",
              "      <th>Назва статті</th>\n",
              "      <th>ЦФУ код</th>\n",
              "      <th>ЦФУ назва</th>\n",
              "      <th>січень</th>\n",
              "      <th>лютий</th>\n",
              "      <th>березень</th>\n",
              "      <th>квітень</th>\n",
              "      <th>травень</th>\n",
              "      <th>червень</th>\n",
              "      <th>липень</th>\n",
              "      <th>серпень</th>\n",
              "      <th>вересень</th>\n",
              "      <th>жовтень</th>\n",
              "      <th>листопад</th>\n",
              "      <th>грудень</th>\n",
              "    </tr>\n",
              "  </thead>\n",
              "  <tbody>\n",
              "    <tr>\n",
              "      <th>0</th>\n",
              "      <td>5.4.1.1.0.</td>\n",
              "      <td>основна заробітна плата (оклади) - бюджет</td>\n",
              "      <td>0.17..</td>\n",
              "      <td>(до 01.01.2018) Управління депозитарної дiяльн...</td>\n",
              "      <td>114593</td>\n",
              "      <td>114593</td>\n",
              "      <td>114593</td>\n",
              "      <td>114593</td>\n",
              "      <td>114593</td>\n",
              "      <td>114593</td>\n",
              "      <td>114593</td>\n",
              "      <td>114593</td>\n",
              "      <td>114593</td>\n",
              "      <td>114593</td>\n",
              "      <td>114593</td>\n",
              "      <td>114593</td>\n",
              "    </tr>\n",
              "    <tr>\n",
              "      <th>1</th>\n",
              "      <td>5.4.1.1.0.</td>\n",
              "      <td>основна заробітна плата (оклади) - бюджет</td>\n",
              "      <td>0.23.1.1.</td>\n",
              "      <td>Сектор розрахунків з персоналом</td>\n",
              "      <td>55057</td>\n",
              "      <td>55057</td>\n",
              "      <td>55057</td>\n",
              "      <td>55057</td>\n",
              "      <td>55057</td>\n",
              "      <td>55057</td>\n",
              "      <td>55057</td>\n",
              "      <td>55057</td>\n",
              "      <td>55057</td>\n",
              "      <td>55057</td>\n",
              "      <td>55057</td>\n",
              "      <td>55057</td>\n",
              "    </tr>\n",
              "    <tr>\n",
              "      <th>2</th>\n",
              "      <td>5.4.1.1.0.</td>\n",
              "      <td>основна заробітна плата (оклади) - бюджет</td>\n",
              "      <td>0.27.</td>\n",
              "      <td>Перший відділ</td>\n",
              "      <td>60752</td>\n",
              "      <td>60752</td>\n",
              "      <td>60752</td>\n",
              "      <td>60752</td>\n",
              "      <td>60752</td>\n",
              "      <td>60752</td>\n",
              "      <td>60752</td>\n",
              "      <td>60752</td>\n",
              "      <td>60752</td>\n",
              "      <td>60752</td>\n",
              "      <td>60752</td>\n",
              "      <td>60752</td>\n",
              "    </tr>\n",
              "    <tr>\n",
              "      <th>3</th>\n",
              "      <td>5.4.1.1.0.</td>\n",
              "      <td>основна заробітна плата (оклади) - бюджет</td>\n",
              "      <td>1.05.11.2.</td>\n",
              "      <td>Відділ аналізу кредитного ризику та звітності</td>\n",
              "      <td>132414</td>\n",
              "      <td>132414</td>\n",
              "      <td>132414</td>\n",
              "      <td>132414</td>\n",
              "      <td>132414</td>\n",
              "      <td>132414</td>\n",
              "      <td>132414</td>\n",
              "      <td>132414</td>\n",
              "      <td>132414</td>\n",
              "      <td>132414</td>\n",
              "      <td>132414</td>\n",
              "      <td>132414</td>\n",
              "    </tr>\n",
              "    <tr>\n",
              "      <th>4</th>\n",
              "      <td>5.4.1.1.0.</td>\n",
              "      <td>основна заробітна плата (оклади) - бюджет</td>\n",
              "      <td>1.05.13.</td>\n",
              "      <td>Управління оцінки та моніторингу забезпечення</td>\n",
              "      <td>62409</td>\n",
              "      <td>62409</td>\n",
              "      <td>62409</td>\n",
              "      <td>62409</td>\n",
              "      <td>62409</td>\n",
              "      <td>133691</td>\n",
              "      <td>133691</td>\n",
              "      <td>133691</td>\n",
              "      <td>133691</td>\n",
              "      <td>133691</td>\n",
              "      <td>133691</td>\n",
              "      <td>133691</td>\n",
              "    </tr>\n",
              "  </tbody>\n",
              "</table>\n",
              "</div>\n",
              "      <button class=\"colab-df-convert\" onclick=\"convertToInteractive('df-9a9587f3-48a0-4f5d-b60c-b59d32d68875')\"\n",
              "              title=\"Convert this dataframe to an interactive table.\"\n",
              "              style=\"display:none;\">\n",
              "        \n",
              "  <svg xmlns=\"http://www.w3.org/2000/svg\" height=\"24px\"viewBox=\"0 0 24 24\"\n",
              "       width=\"24px\">\n",
              "    <path d=\"M0 0h24v24H0V0z\" fill=\"none\"/>\n",
              "    <path d=\"M18.56 5.44l.94 2.06.94-2.06 2.06-.94-2.06-.94-.94-2.06-.94 2.06-2.06.94zm-11 1L8.5 8.5l.94-2.06 2.06-.94-2.06-.94L8.5 2.5l-.94 2.06-2.06.94zm10 10l.94 2.06.94-2.06 2.06-.94-2.06-.94-.94-2.06-.94 2.06-2.06.94z\"/><path d=\"M17.41 7.96l-1.37-1.37c-.4-.4-.92-.59-1.43-.59-.52 0-1.04.2-1.43.59L10.3 9.45l-7.72 7.72c-.78.78-.78 2.05 0 2.83L4 21.41c.39.39.9.59 1.41.59.51 0 1.02-.2 1.41-.59l7.78-7.78 2.81-2.81c.8-.78.8-2.07 0-2.86zM5.41 20L4 18.59l7.72-7.72 1.47 1.35L5.41 20z\"/>\n",
              "  </svg>\n",
              "      </button>\n",
              "      \n",
              "  <style>\n",
              "    .colab-df-container {\n",
              "      display:flex;\n",
              "      flex-wrap:wrap;\n",
              "      gap: 12px;\n",
              "    }\n",
              "\n",
              "    .colab-df-convert {\n",
              "      background-color: #E8F0FE;\n",
              "      border: none;\n",
              "      border-radius: 50%;\n",
              "      cursor: pointer;\n",
              "      display: none;\n",
              "      fill: #1967D2;\n",
              "      height: 32px;\n",
              "      padding: 0 0 0 0;\n",
              "      width: 32px;\n",
              "    }\n",
              "\n",
              "    .colab-df-convert:hover {\n",
              "      background-color: #E2EBFA;\n",
              "      box-shadow: 0px 1px 2px rgba(60, 64, 67, 0.3), 0px 1px 3px 1px rgba(60, 64, 67, 0.15);\n",
              "      fill: #174EA6;\n",
              "    }\n",
              "\n",
              "    [theme=dark] .colab-df-convert {\n",
              "      background-color: #3B4455;\n",
              "      fill: #D2E3FC;\n",
              "    }\n",
              "\n",
              "    [theme=dark] .colab-df-convert:hover {\n",
              "      background-color: #434B5C;\n",
              "      box-shadow: 0px 1px 3px 1px rgba(0, 0, 0, 0.15);\n",
              "      filter: drop-shadow(0px 1px 2px rgba(0, 0, 0, 0.3));\n",
              "      fill: #FFFFFF;\n",
              "    }\n",
              "  </style>\n",
              "\n",
              "      <script>\n",
              "        const buttonEl =\n",
              "          document.querySelector('#df-9a9587f3-48a0-4f5d-b60c-b59d32d68875 button.colab-df-convert');\n",
              "        buttonEl.style.display =\n",
              "          google.colab.kernel.accessAllowed ? 'block' : 'none';\n",
              "\n",
              "        async function convertToInteractive(key) {\n",
              "          const element = document.querySelector('#df-9a9587f3-48a0-4f5d-b60c-b59d32d68875');\n",
              "          const dataTable =\n",
              "            await google.colab.kernel.invokeFunction('convertToInteractive',\n",
              "                                                     [key], {});\n",
              "          if (!dataTable) return;\n",
              "\n",
              "          const docLinkHtml = 'Like what you see? Visit the ' +\n",
              "            '<a target=\"_blank\" href=https://colab.research.google.com/notebooks/data_table.ipynb>data table notebook</a>'\n",
              "            + ' to learn more about interactive tables.';\n",
              "          element.innerHTML = '';\n",
              "          dataTable['output_type'] = 'display_data';\n",
              "          await google.colab.output.renderOutput(dataTable, element);\n",
              "          const docLink = document.createElement('div');\n",
              "          docLink.innerHTML = docLinkHtml;\n",
              "          element.appendChild(docLink);\n",
              "        }\n",
              "      </script>\n",
              "    </div>\n",
              "  </div>\n",
              "  "
            ]
          },
          "metadata": {},
          "execution_count": 64
        }
      ]
    },
    {
      "cell_type": "markdown",
      "source": [
        "### Для січень"
      ],
      "metadata": {
        "id": "yQa9TaYT4V4g"
      }
    },
    {
      "cell_type": "markdown",
      "source": [
        "### Лютий"
      ],
      "metadata": {
        "id": "79uoVhIx4ihm"
      }
    },
    {
      "cell_type": "code",
      "source": [
        ""
      ],
      "metadata": {
        "id": "KfVIIfmr74ub"
      },
      "execution_count": 21,
      "outputs": []
    },
    {
      "cell_type": "code",
      "source": [
        ""
      ],
      "metadata": {
        "id": "O91TQGpj74rL"
      },
      "execution_count": 21,
      "outputs": []
    },
    {
      "cell_type": "code",
      "source": [
        ""
      ],
      "metadata": {
        "id": "NcsQfupk74n7"
      },
      "execution_count": 21,
      "outputs": []
    },
    {
      "cell_type": "code",
      "source": [
        "# path_out = '/content/gdrive/Shareddrives/Фінансовий департамент/Управління фінансового планування/Бюджет 2023/Budget FOP/Out/fop_SA.xlsx'"
      ],
      "metadata": {
        "id": "KPz4ap9oM5a7"
      },
      "execution_count": 22,
      "outputs": []
    },
    {
      "cell_type": "code",
      "source": [
        "# table.to_excel(path_out)"
      ],
      "metadata": {
        "id": "fIPoTIWAM5YB"
      },
      "execution_count": 23,
      "outputs": []
    },
    {
      "cell_type": "code",
      "source": [
        ""
      ],
      "metadata": {
        "id": "jWh8CqvGM5U_"
      },
      "execution_count": 23,
      "outputs": []
    },
    {
      "cell_type": "code",
      "source": [
        ""
      ],
      "metadata": {
        "id": "_ILOVny8M5Rv"
      },
      "execution_count": 23,
      "outputs": []
    },
    {
      "cell_type": "code",
      "source": [
        "# # Changed Таб № to dtype str\n",
        "# Sheet1['Таб №'] = Sheet1['Таб №'].astype('str')\n",
        "\n",
        "# # Changed 5.1.1.0. to dtype float\n",
        "# Sheet1['5.1.1.0.'] = Sheet1['5.1.1.0.'].astype('float')\n",
        "\n",
        "# # Changed 5.4.1.1.2. to dtype float\n",
        "# Sheet1['5.4.1.1.2.'] = Sheet1['5.4.1.1.2.'].astype('float')\n",
        "\n",
        "# # Changed 5.4.1.1.3.3. to dtype float\n",
        "# Sheet1['5.4.1.1.3.3.'] = Sheet1['5.4.1.1.3.3.'].astype('float')\n",
        "\n",
        "# # Changed 5.4.1.1.3.5. to dtype float\n",
        "# Sheet1['5.4.1.1.3.5.'] = Sheet1['5.4.1.1.3.5.'].astype('float')\n",
        "\n",
        "# # Changed 5.4.1.1.5. to dtype float\n",
        "# Sheet1['5.4.1.1.5.'] = Sheet1['5.4.1.1.5.'].astype('float')\n",
        "\n",
        "# # Changed 5.4.1.1.4. to dtype float\n",
        "# Sheet1['5.4.1.1.4.'] = Sheet1['5.4.1.1.4.'].astype('float')\n",
        "\n",
        "# # Changed 5.4.1.3. to dtype float\n",
        "# Sheet1['5.4.1.3.'] = Sheet1['5.4.1.3.'].astype('float')"
      ],
      "metadata": {
        "id": "Fra0kcgvtowX"
      },
      "execution_count": 24,
      "outputs": []
    },
    {
      "cell_type": "code",
      "source": [
        "print(Sheet1.head(2))"
      ],
      "metadata": {
        "colab": {
          "base_uri": "https://localhost:8080/"
        },
        "id": "J0i0j0t4totl",
        "outputId": "6c618d23-7db1-4720-905a-4142e4a9f9be"
      },
      "execution_count": 25,
      "outputs": [
        {
          "output_type": "stream",
          "name": "stdout",
          "text": [
            "  Таб № Місяць бюджетного року                         ПІБ ЦФУ код  \\\n",
            "0  1811                 січень  Кравчук Лариса Анатоліївна   1.38.   \n",
            "1  1811                  лютий  Кравчук Лариса Анатоліївна   1.38.   \n",
            "\n",
            "                                           ЦФУ назва  5.4.1.1.0.  5.4.1.1.8.  \\\n",
            "0  Департамент корпоративного банкінгу та транзак...       38800      388000   \n",
            "1  Департамент корпоративного банкінгу та транзак...       38800      543200   \n",
            "\n",
            "   5.4.1.1.1.  5.4.1.1.2.  5.4.1.1.3.3.  5.4.1.1.3.5.  5.4.1.1.5.  5.4.1.1.4.  \\\n",
            "0     -349200      3600.0             0          2000           0           0   \n",
            "1     -504400      3600.0         25000          2000           0       25777   \n",
            "\n",
            "   5.4.1.3.  5.4.1.1.7.  5.4.1.2.1.    5.4.1.5.8.  \n",
            "0    142827  1370.50164     25410.0  10700.375082  \n",
            "1    494046  4242.40560     25410.0  29654.920280  \n"
          ]
        }
      ]
    },
    {
      "cell_type": "code",
      "source": [
        ""
      ],
      "metadata": {
        "id": "Ycg0S2Hqtoq3"
      },
      "execution_count": 25,
      "outputs": []
    },
    {
      "cell_type": "code",
      "source": [
        ""
      ],
      "metadata": {
        "id": "7z1EyINNtoot"
      },
      "execution_count": 25,
      "outputs": []
    },
    {
      "cell_type": "code",
      "source": [
        ""
      ],
      "metadata": {
        "id": "6taTe_JEtolS"
      },
      "execution_count": 25,
      "outputs": []
    },
    {
      "cell_type": "code",
      "source": [
        ""
      ],
      "metadata": {
        "id": "ul011MXNtoiv"
      },
      "execution_count": 25,
      "outputs": []
    },
    {
      "cell_type": "code",
      "source": [
        ""
      ],
      "metadata": {
        "id": "APG83HW1tofm"
      },
      "execution_count": 25,
      "outputs": []
    },
    {
      "cell_type": "code",
      "source": [
        ""
      ],
      "metadata": {
        "id": "iax5VFcDtocX"
      },
      "execution_count": 25,
      "outputs": []
    }
  ]
}